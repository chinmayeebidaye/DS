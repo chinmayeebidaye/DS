{
 "cells": [
  {
   "cell_type": "code",
   "execution_count": 3,
   "id": "ce861e1e",
   "metadata": {},
   "outputs": [],
   "source": [
    "import pandas as pd\n",
    "import numpy as np\n",
    "import matplotlib.pyplot as plt\n",
    "import seaborn as sns\n",
    "\n",
    "plt.style.use('ggplot')\n",
    "\n",
    "import nltk"
   ]
  },
  {
   "cell_type": "code",
   "execution_count": 4,
   "id": "96cfbc73",
   "metadata": {},
   "outputs": [],
   "source": [
    "df = pd.read_csv('twitter_validation.csv')"
   ]
  },
  {
   "cell_type": "code",
   "execution_count": 5,
   "id": "06bce65c",
   "metadata": {},
   "outputs": [
    {
     "data": {
      "text/html": [
       "<div>\n",
       "<style scoped>\n",
       "    .dataframe tbody tr th:only-of-type {\n",
       "        vertical-align: middle;\n",
       "    }\n",
       "\n",
       "    .dataframe tbody tr th {\n",
       "        vertical-align: top;\n",
       "    }\n",
       "\n",
       "    .dataframe thead th {\n",
       "        text-align: right;\n",
       "    }\n",
       "</style>\n",
       "<table border=\"1\" class=\"dataframe\">\n",
       "  <thead>\n",
       "    <tr style=\"text-align: right;\">\n",
       "      <th></th>\n",
       "      <th>Id</th>\n",
       "      <th>Topic</th>\n",
       "      <th>Sentiment</th>\n",
       "      <th>Review</th>\n",
       "    </tr>\n",
       "  </thead>\n",
       "  <tbody>\n",
       "    <tr>\n",
       "      <th>0</th>\n",
       "      <td>3364</td>\n",
       "      <td>Facebook</td>\n",
       "      <td>Irrelevant</td>\n",
       "      <td>I mentioned on Facebook that I was struggling ...</td>\n",
       "    </tr>\n",
       "    <tr>\n",
       "      <th>1</th>\n",
       "      <td>352</td>\n",
       "      <td>Amazon</td>\n",
       "      <td>Neutral</td>\n",
       "      <td>BBC News - Amazon boss Jeff Bezos rejects clai...</td>\n",
       "    </tr>\n",
       "    <tr>\n",
       "      <th>2</th>\n",
       "      <td>8312</td>\n",
       "      <td>Microsoft</td>\n",
       "      <td>Negative</td>\n",
       "      <td>@Microsoft Why do I pay for WORD when it funct...</td>\n",
       "    </tr>\n",
       "    <tr>\n",
       "      <th>3</th>\n",
       "      <td>4371</td>\n",
       "      <td>CS-GO</td>\n",
       "      <td>Negative</td>\n",
       "      <td>CSGO matchmaking is so full of closet hacking,...</td>\n",
       "    </tr>\n",
       "    <tr>\n",
       "      <th>4</th>\n",
       "      <td>4433</td>\n",
       "      <td>Google</td>\n",
       "      <td>Neutral</td>\n",
       "      <td>Now the President is slapping Americans in the...</td>\n",
       "    </tr>\n",
       "  </tbody>\n",
       "</table>\n",
       "</div>"
      ],
      "text/plain": [
       "     Id      Topic   Sentiment  \\\n",
       "0  3364   Facebook  Irrelevant   \n",
       "1   352     Amazon     Neutral   \n",
       "2  8312  Microsoft    Negative   \n",
       "3  4371      CS-GO    Negative   \n",
       "4  4433     Google     Neutral   \n",
       "\n",
       "                                              Review  \n",
       "0  I mentioned on Facebook that I was struggling ...  \n",
       "1  BBC News - Amazon boss Jeff Bezos rejects clai...  \n",
       "2  @Microsoft Why do I pay for WORD when it funct...  \n",
       "3  CSGO matchmaking is so full of closet hacking,...  \n",
       "4  Now the President is slapping Americans in the...  "
      ]
     },
     "execution_count": 5,
     "metadata": {},
     "output_type": "execute_result"
    }
   ],
   "source": [
    "df.head()"
   ]
  },
  {
   "cell_type": "code",
   "execution_count": 6,
   "id": "334c7973",
   "metadata": {},
   "outputs": [
    {
     "name": "stdout",
     "output_type": "stream",
     "text": [
      "<class 'pandas.core.frame.DataFrame'>\n",
      "RangeIndex: 1000 entries, 0 to 999\n",
      "Data columns (total 4 columns):\n",
      " #   Column     Non-Null Count  Dtype \n",
      "---  ------     --------------  ----- \n",
      " 0   Id         1000 non-null   int64 \n",
      " 1   Topic      1000 non-null   object\n",
      " 2   Sentiment  1000 non-null   object\n",
      " 3   Review     1000 non-null   object\n",
      "dtypes: int64(1), object(3)\n",
      "memory usage: 31.4+ KB\n"
     ]
    }
   ],
   "source": [
    "df.info()"
   ]
  },
  {
   "cell_type": "code",
   "execution_count": 7,
   "id": "1da6e145",
   "metadata": {},
   "outputs": [],
   "source": [
    "df1 = pd.read_csv('twitter_training.csv')"
   ]
  },
  {
   "cell_type": "code",
   "execution_count": 8,
   "id": "e58091ca",
   "metadata": {},
   "outputs": [
    {
     "name": "stdout",
     "output_type": "stream",
     "text": [
      "<class 'pandas.core.frame.DataFrame'>\n",
      "RangeIndex: 74681 entries, 0 to 74680\n",
      "Data columns (total 4 columns):\n",
      " #   Column                                                 Non-Null Count  Dtype  \n",
      "---  ------                                                 --------------  -----  \n",
      " 0   2401                                                   12446 non-null  float64\n",
      " 1   Borderlands                                            74681 non-null  object \n",
      " 2   Positive                                               74681 non-null  object \n",
      " 3   im getting on borderlands and i will murder you all ,  69217 non-null  object \n",
      "dtypes: float64(1), object(3)\n",
      "memory usage: 2.3+ MB\n"
     ]
    }
   ],
   "source": [
    "df1.info()"
   ]
  },
  {
   "cell_type": "code",
   "execution_count": 9,
   "id": "3a779fee",
   "metadata": {},
   "outputs": [
    {
     "data": {
      "text/plain": [
       "RedDeadRedemption(RDR)               40\n",
       "johnson&johnson                      39\n",
       "FIFA                                 38\n",
       "PlayerUnknownsBattlegrounds(PUBG)    38\n",
       "LeagueOfLegends                      37\n",
       "ApexLegends                          36\n",
       "TomClancysRainbowSix                 35\n",
       "GrandTheftAuto(GTA)                  35\n",
       "Nvidia                               35\n",
       "Fortnite                             34\n",
       "Amazon                               34\n",
       "Borderlands                          33\n",
       "AssassinsCreed                       33\n",
       "Facebook                             33\n",
       "PlayStation5(PS5)                    33\n",
       "Overwatch                            32\n",
       "Verizon                              32\n",
       "CS-GO                                32\n",
       "Hearthstone                          32\n",
       "CallOfDuty                           31\n",
       "WorldOfCraft                         30\n",
       "Cyberpunk2077                        30\n",
       "MaddenNFL                            29\n",
       "Microsoft                            28\n",
       "Dota2                                27\n",
       "CallOfDutyBlackopsColdWar            27\n",
       "Battlefield                          26\n",
       "Xbox(Xseries)                        26\n",
       "Google                               24\n",
       "TomClancysGhostRecon                 22\n",
       "NBA2K                                21\n",
       "HomeDepot                            18\n",
       "Name: Topic, dtype: int64"
      ]
     },
     "execution_count": 9,
     "metadata": {},
     "output_type": "execute_result"
    }
   ],
   "source": [
    "df['Topic'].value_counts()"
   ]
  },
  {
   "cell_type": "code",
   "execution_count": 10,
   "id": "bb4388e4",
   "metadata": {},
   "outputs": [
    {
     "data": {
      "text/plain": [
       "Neutral       285\n",
       "Positive      277\n",
       "Negative      266\n",
       "Irrelevant    172\n",
       "Name: Sentiment, dtype: int64"
      ]
     },
     "execution_count": 10,
     "metadata": {},
     "output_type": "execute_result"
    }
   ],
   "source": [
    "df['Sentiment'].value_counts()"
   ]
  },
  {
   "cell_type": "code",
   "execution_count": 11,
   "id": "a8ce7fec",
   "metadata": {},
   "outputs": [],
   "source": [
    "df2 = df1.dropna()"
   ]
  },
  {
   "cell_type": "code",
   "execution_count": 12,
   "id": "097a9951",
   "metadata": {},
   "outputs": [
    {
     "name": "stdout",
     "output_type": "stream",
     "text": [
      "<class 'pandas.core.frame.DataFrame'>\n",
      "Int64Index: 12445 entries, 0 to 12445\n",
      "Data columns (total 4 columns):\n",
      " #   Column                                                 Non-Null Count  Dtype  \n",
      "---  ------                                                 --------------  -----  \n",
      " 0   2401                                                   12445 non-null  float64\n",
      " 1   Borderlands                                            12445 non-null  object \n",
      " 2   Positive                                               12445 non-null  object \n",
      " 3   im getting on borderlands and i will murder you all ,  12445 non-null  object \n",
      "dtypes: float64(1), object(3)\n",
      "memory usage: 486.1+ KB\n"
     ]
    }
   ],
   "source": [
    "df2.info()"
   ]
  },
  {
   "cell_type": "code",
   "execution_count": 13,
   "id": "213f2776",
   "metadata": {},
   "outputs": [],
   "source": [
    "df3 = df2.sample(5000)"
   ]
  },
  {
   "cell_type": "code",
   "execution_count": 14,
   "id": "a9b7e5f7",
   "metadata": {},
   "outputs": [
    {
     "name": "stdout",
     "output_type": "stream",
     "text": [
      "<class 'pandas.core.frame.DataFrame'>\n",
      "Int64Index: 5000 entries, 8043 to 4307\n",
      "Data columns (total 4 columns):\n",
      " #   Column                                                 Non-Null Count  Dtype  \n",
      "---  ------                                                 --------------  -----  \n",
      " 0   2401                                                   5000 non-null   float64\n",
      " 1   Borderlands                                            5000 non-null   object \n",
      " 2   Positive                                               5000 non-null   object \n",
      " 3   im getting on borderlands and i will murder you all ,  5000 non-null   object \n",
      "dtypes: float64(1), object(3)\n",
      "memory usage: 195.3+ KB\n"
     ]
    }
   ],
   "source": [
    "df3.info()"
   ]
  },
  {
   "cell_type": "code",
   "execution_count": 15,
   "id": "bf01471e",
   "metadata": {},
   "outputs": [
    {
     "data": {
      "text/html": [
       "<div>\n",
       "<style scoped>\n",
       "    .dataframe tbody tr th:only-of-type {\n",
       "        vertical-align: middle;\n",
       "    }\n",
       "\n",
       "    .dataframe tbody tr th {\n",
       "        vertical-align: top;\n",
       "    }\n",
       "\n",
       "    .dataframe thead th {\n",
       "        text-align: right;\n",
       "    }\n",
       "</style>\n",
       "<table border=\"1\" class=\"dataframe\">\n",
       "  <thead>\n",
       "    <tr style=\"text-align: right;\">\n",
       "      <th></th>\n",
       "      <th>2401</th>\n",
       "      <th>Borderlands</th>\n",
       "      <th>Positive</th>\n",
       "      <th>im getting on borderlands and i will murder you all ,</th>\n",
       "    </tr>\n",
       "  </thead>\n",
       "  <tbody>\n",
       "    <tr>\n",
       "      <th>11269</th>\n",
       "      <td>7182.0</td>\n",
       "      <td>Xbox(Xseries)</td>\n",
       "      <td>Irrelevant</td>\n",
       "      <td>@NBA2K fix your CD so bad, trash af and can’t ...</td>\n",
       "    </tr>\n",
       "    <tr>\n",
       "      <th>11931</th>\n",
       "      <td>11064.0</td>\n",
       "      <td>NBA2K</td>\n",
       "      <td>Negative</td>\n",
       "      <td>Congratulations @ NBA2K. Some of how you manag...</td>\n",
       "    </tr>\n",
       "    <tr>\n",
       "      <th>6138</th>\n",
       "      <td>8319.0</td>\n",
       "      <td>Amazon</td>\n",
       "      <td>Neutral</td>\n",
       "      <td>for baby lovers who already joined our band, w...</td>\n",
       "    </tr>\n",
       "    <tr>\n",
       "      <th>1936</th>\n",
       "      <td>13197.0</td>\n",
       "      <td>Borderlands</td>\n",
       "      <td>Irrelevant</td>\n",
       "      <td>who</td>\n",
       "    </tr>\n",
       "    <tr>\n",
       "      <th>9356</th>\n",
       "      <td>11236.0</td>\n",
       "      <td>Xbox(Xseries)</td>\n",
       "      <td>Negative</td>\n",
       "      <td>15 Well... it was a struggle but I eventually ...</td>\n",
       "    </tr>\n",
       "    <tr>\n",
       "      <th>8412</th>\n",
       "      <td>6265.0</td>\n",
       "      <td>Overwatch</td>\n",
       "      <td>Irrelevant</td>\n",
       "      <td>Our Los</td>\n",
       "    </tr>\n",
       "    <tr>\n",
       "      <th>3742</th>\n",
       "      <td>4245.0</td>\n",
       "      <td>CallOfDutyBlackopsColdWar</td>\n",
       "      <td>Irrelevant</td>\n",
       "      <td>Yikes. I have decided to pay you more to play ...</td>\n",
       "    </tr>\n",
       "    <tr>\n",
       "      <th>1997</th>\n",
       "      <td>8462.0</td>\n",
       "      <td>Borderlands</td>\n",
       "      <td>Irrelevant</td>\n",
       "      <td>officially FINALLY finished Borderlands 10! It...</td>\n",
       "    </tr>\n",
       "    <tr>\n",
       "      <th>6125</th>\n",
       "      <td>8306.0</td>\n",
       "      <td>Amazon</td>\n",
       "      <td>Positive</td>\n",
       "      <td>I love a healthy gaming community with every c...</td>\n",
       "    </tr>\n",
       "    <tr>\n",
       "      <th>1387</th>\n",
       "      <td>9429.0</td>\n",
       "      <td>Borderlands</td>\n",
       "      <td>Positive</td>\n",
       "      <td>My man, you're the best.</td>\n",
       "    </tr>\n",
       "  </tbody>\n",
       "</table>\n",
       "</div>"
      ],
      "text/plain": [
       "          2401                Borderlands    Positive  \\\n",
       "11269   7182.0              Xbox(Xseries)  Irrelevant   \n",
       "11931  11064.0                      NBA2K    Negative   \n",
       "6138    8319.0                     Amazon     Neutral   \n",
       "1936   13197.0                Borderlands  Irrelevant   \n",
       "9356   11236.0              Xbox(Xseries)    Negative   \n",
       "8412    6265.0                  Overwatch  Irrelevant   \n",
       "3742    4245.0  CallOfDutyBlackopsColdWar  Irrelevant   \n",
       "1997    8462.0                Borderlands  Irrelevant   \n",
       "6125    8306.0                     Amazon    Positive   \n",
       "1387    9429.0                Borderlands    Positive   \n",
       "\n",
       "      im getting on borderlands and i will murder you all ,  \n",
       "11269  @NBA2K fix your CD so bad, trash af and can’t ...     \n",
       "11931  Congratulations @ NBA2K. Some of how you manag...     \n",
       "6138   for baby lovers who already joined our band, w...     \n",
       "1936                                                 who     \n",
       "9356   15 Well... it was a struggle but I eventually ...     \n",
       "8412                                             Our Los     \n",
       "3742   Yikes. I have decided to pay you more to play ...     \n",
       "1997   officially FINALLY finished Borderlands 10! It...     \n",
       "6125   I love a healthy gaming community with every c...     \n",
       "1387                            My man, you're the best.     "
      ]
     },
     "execution_count": 15,
     "metadata": {},
     "output_type": "execute_result"
    }
   ],
   "source": [
    "df3.sample(10)"
   ]
  },
  {
   "cell_type": "code",
   "execution_count": 16,
   "id": "0301bf88",
   "metadata": {},
   "outputs": [],
   "source": [
    "df3.columns = ['ID', 'Topic', 'Sentiment', 'Review']"
   ]
  },
  {
   "cell_type": "code",
   "execution_count": 17,
   "id": "7c90ee08",
   "metadata": {},
   "outputs": [
    {
     "data": {
      "text/html": [
       "<div>\n",
       "<style scoped>\n",
       "    .dataframe tbody tr th:only-of-type {\n",
       "        vertical-align: middle;\n",
       "    }\n",
       "\n",
       "    .dataframe tbody tr th {\n",
       "        vertical-align: top;\n",
       "    }\n",
       "\n",
       "    .dataframe thead th {\n",
       "        text-align: right;\n",
       "    }\n",
       "</style>\n",
       "<table border=\"1\" class=\"dataframe\">\n",
       "  <thead>\n",
       "    <tr style=\"text-align: right;\">\n",
       "      <th></th>\n",
       "      <th>ID</th>\n",
       "      <th>Topic</th>\n",
       "      <th>Sentiment</th>\n",
       "      <th>Review</th>\n",
       "    </tr>\n",
       "  </thead>\n",
       "  <tbody>\n",
       "    <tr>\n",
       "      <th>8043</th>\n",
       "      <td>5885.0</td>\n",
       "      <td>Overwatch</td>\n",
       "      <td>Negative</td>\n",
       "      <td>So will overtime be much more interesting for ...</td>\n",
       "    </tr>\n",
       "    <tr>\n",
       "      <th>4448</th>\n",
       "      <td>986.0</td>\n",
       "      <td>CallOfDutyBlackopsColdWar</td>\n",
       "      <td>Neutral</td>\n",
       "      <td>I played this interesting quiz on Amazon - Try...</td>\n",
       "    </tr>\n",
       "    <tr>\n",
       "      <th>11897</th>\n",
       "      <td>11028.0</td>\n",
       "      <td>NBA2K</td>\n",
       "      <td>Negative</td>\n",
       "      <td>Yall behaves like the last nba 2k games fire. ...</td>\n",
       "    </tr>\n",
       "    <tr>\n",
       "      <th>9629</th>\n",
       "      <td>11509.0</td>\n",
       "      <td>Xbox(Xseries)</td>\n",
       "      <td>Positive</td>\n",
       "      <td>The man in this fridge looks somehow fresh.</td>\n",
       "    </tr>\n",
       "    <tr>\n",
       "      <th>10068</th>\n",
       "      <td>3552.0</td>\n",
       "      <td>Xbox(Xseries)</td>\n",
       "      <td>Negative</td>\n",
       "      <td>Graphics go crazy</td>\n",
       "    </tr>\n",
       "  </tbody>\n",
       "</table>\n",
       "</div>"
      ],
      "text/plain": [
       "            ID                      Topic Sentiment  \\\n",
       "8043    5885.0                  Overwatch  Negative   \n",
       "4448     986.0  CallOfDutyBlackopsColdWar   Neutral   \n",
       "11897  11028.0                      NBA2K  Negative   \n",
       "9629   11509.0              Xbox(Xseries)  Positive   \n",
       "10068   3552.0              Xbox(Xseries)  Negative   \n",
       "\n",
       "                                                  Review  \n",
       "8043   So will overtime be much more interesting for ...  \n",
       "4448   I played this interesting quiz on Amazon - Try...  \n",
       "11897  Yall behaves like the last nba 2k games fire. ...  \n",
       "9629         The man in this fridge looks somehow fresh.  \n",
       "10068                                  Graphics go crazy  "
      ]
     },
     "execution_count": 17,
     "metadata": {},
     "output_type": "execute_result"
    }
   ],
   "source": [
    "df3.head()"
   ]
  },
  {
   "cell_type": "code",
   "execution_count": 18,
   "id": "6ff2e616",
   "metadata": {},
   "outputs": [],
   "source": [
    "df1 = df3"
   ]
  },
  {
   "cell_type": "code",
   "execution_count": 19,
   "id": "fb32bff8",
   "metadata": {},
   "outputs": [
    {
     "data": {
      "text/plain": [
       "Overwatch                    993\n",
       "Xbox(Xseries)                936\n",
       "CallOfDutyBlackopsColdWar    929\n",
       "Amazon                       910\n",
       "Borderlands                  892\n",
       "NBA2K                        340\n",
       "Name: Topic, dtype: int64"
      ]
     },
     "execution_count": 19,
     "metadata": {},
     "output_type": "execute_result"
    }
   ],
   "source": [
    "df1['Topic'].value_counts()"
   ]
  },
  {
   "cell_type": "code",
   "execution_count": 20,
   "id": "4bc97e9f",
   "metadata": {},
   "outputs": [
    {
     "data": {
      "text/plain": [
       "Positive      1600\n",
       "Negative      1208\n",
       "Neutral       1182\n",
       "Irrelevant    1010\n",
       "Name: Sentiment, dtype: int64"
      ]
     },
     "execution_count": 20,
     "metadata": {},
     "output_type": "execute_result"
    }
   ],
   "source": [
    "df1['Sentiment'].value_counts()"
   ]
  },
  {
   "cell_type": "code",
   "execution_count": 21,
   "id": "d85ae04e",
   "metadata": {},
   "outputs": [
    {
     "name": "stdout",
     "output_type": "stream",
     "text": [
      "Hi @EAHelp I’ve had Madeleine McCann in my cellar for the past 13 years and the little sneaky thing just escaped whilst I was loading up some fifa points, she took my card and I’m having to use my paypal account but it isn’t working, can you help me resolve it please?\n"
     ]
    }
   ],
   "source": [
    "example = df['Review'][5]\n",
    "print(example)"
   ]
  },
  {
   "cell_type": "code",
   "execution_count": 22,
   "id": "bf4a9b11",
   "metadata": {},
   "outputs": [
    {
     "data": {
      "text/plain": [
       "['Hi',\n",
       " '@',\n",
       " 'EAHelp',\n",
       " 'I',\n",
       " '’',\n",
       " 've',\n",
       " 'had',\n",
       " 'Madeleine',\n",
       " 'McCann',\n",
       " 'in',\n",
       " 'my',\n",
       " 'cellar',\n",
       " 'for',\n",
       " 'the',\n",
       " 'past',\n",
       " '13',\n",
       " 'years',\n",
       " 'and',\n",
       " 'the',\n",
       " 'little',\n",
       " 'sneaky',\n",
       " 'thing',\n",
       " 'just',\n",
       " 'escaped',\n",
       " 'whilst',\n",
       " 'I',\n",
       " 'was',\n",
       " 'loading',\n",
       " 'up',\n",
       " 'some',\n",
       " 'fifa',\n",
       " 'points',\n",
       " ',',\n",
       " 'she',\n",
       " 'took',\n",
       " 'my',\n",
       " 'card',\n",
       " 'and',\n",
       " 'I',\n",
       " '’',\n",
       " 'm',\n",
       " 'having',\n",
       " 'to',\n",
       " 'use',\n",
       " 'my',\n",
       " 'paypal',\n",
       " 'account',\n",
       " 'but',\n",
       " 'it',\n",
       " 'isn',\n",
       " '’',\n",
       " 't',\n",
       " 'working',\n",
       " ',',\n",
       " 'can',\n",
       " 'you',\n",
       " 'help',\n",
       " 'me',\n",
       " 'resolve',\n",
       " 'it',\n",
       " 'please',\n",
       " '?']"
      ]
     },
     "execution_count": 22,
     "metadata": {},
     "output_type": "execute_result"
    }
   ],
   "source": [
    "tokens = nltk.word_tokenize(example)\n",
    "tokens[:]"
   ]
  },
  {
   "cell_type": "code",
   "execution_count": 23,
   "id": "d8fcd652",
   "metadata": {},
   "outputs": [
    {
     "data": {
      "text/plain": [
       "[('Hi', 'NNP'),\n",
       " ('@', 'NNP'),\n",
       " ('EAHelp', 'NNP'),\n",
       " ('I', 'PRP'),\n",
       " ('’', 'VBP'),\n",
       " ('ve', 'NNS'),\n",
       " ('had', 'VBD'),\n",
       " ('Madeleine', 'NNP'),\n",
       " ('McCann', 'NNP'),\n",
       " ('in', 'IN')]"
      ]
     },
     "execution_count": 23,
     "metadata": {},
     "output_type": "execute_result"
    }
   ],
   "source": [
    "tagged = nltk.pos_tag(tokens)\n",
    "tagged[:10]"
   ]
  },
  {
   "cell_type": "code",
   "execution_count": 24,
   "id": "50d96c7d",
   "metadata": {},
   "outputs": [
    {
     "name": "stdout",
     "output_type": "stream",
     "text": [
      "(S\n",
      "  Hi/NNP\n",
      "  @/NNP\n",
      "  EAHelp/NNP\n",
      "  I/PRP\n",
      "  ’/VBP\n",
      "  ve/NNS\n",
      "  had/VBD\n",
      "  (PERSON Madeleine/NNP McCann/NNP)\n",
      "  in/IN\n",
      "  my/PRP$\n",
      "  cellar/NN\n",
      "  for/IN\n",
      "  the/DT\n",
      "  past/JJ\n",
      "  13/CD\n",
      "  years/NNS\n",
      "  and/CC\n",
      "  the/DT\n",
      "  little/JJ\n",
      "  sneaky/JJ\n",
      "  thing/NN\n",
      "  just/RB\n",
      "  escaped/VBD\n",
      "  whilst/NN\n",
      "  I/PRP\n",
      "  was/VBD\n",
      "  loading/VBG\n",
      "  up/RP\n",
      "  some/DT\n",
      "  fifa/NN\n",
      "  points/NNS\n",
      "  ,/,\n",
      "  she/PRP\n",
      "  took/VBD\n",
      "  my/PRP$\n",
      "  card/NN\n",
      "  and/CC\n",
      "  I/PRP\n",
      "  ’/VBP\n",
      "  m/RB\n",
      "  having/VBG\n",
      "  to/TO\n",
      "  use/VB\n",
      "  my/PRP$\n",
      "  paypal/JJ\n",
      "  account/NN\n",
      "  but/CC\n",
      "  it/PRP\n",
      "  isn/VBZ\n",
      "  ’/JJ\n",
      "  t/NN\n",
      "  working/VBG\n",
      "  ,/,\n",
      "  can/MD\n",
      "  you/PRP\n",
      "  help/VB\n",
      "  me/PRP\n",
      "  resolve/VB\n",
      "  it/PRP\n",
      "  please/VB\n",
      "  ?/.)\n"
     ]
    }
   ],
   "source": [
    "entities = nltk.chunk.ne_chunk(tagged)\n",
    "entities.pprint()"
   ]
  },
  {
   "cell_type": "markdown",
   "id": "344e9c44",
   "metadata": {},
   "source": [
    "VADER sentiment analysis"
   ]
  },
  {
   "cell_type": "code",
   "execution_count": 25,
   "id": "87196e21",
   "metadata": {},
   "outputs": [],
   "source": [
    "from nltk.sentiment import SentimentIntensityAnalyzer\n",
    "from tqdm.notebook import tqdm\n",
    "\n",
    "sia = SentimentIntensityAnalyzer()"
   ]
  },
  {
   "cell_type": "code",
   "execution_count": 26,
   "id": "570d5468",
   "metadata": {},
   "outputs": [
    {
     "data": {
      "text/plain": [
       "{'neg': 0.0, 'neu': 0.318, 'pos': 0.682, 'compound': 0.6468}"
      ]
     },
     "execution_count": 26,
     "metadata": {},
     "output_type": "execute_result"
    }
   ],
   "source": [
    "sia.polarity_scores('I am so happy!')"
   ]
  },
  {
   "cell_type": "code",
   "execution_count": 27,
   "id": "07bd0cb2",
   "metadata": {},
   "outputs": [
    {
     "data": {
      "text/plain": [
       "{'neg': 0.022, 'neu': 0.808, 'pos': 0.17, 'compound': 0.8624}"
      ]
     },
     "execution_count": 27,
     "metadata": {},
     "output_type": "execute_result"
    }
   ],
   "source": [
    "sia.polarity_scores(example)"
   ]
  },
  {
   "cell_type": "code",
   "execution_count": 28,
   "id": "a1a6ad8a",
   "metadata": {},
   "outputs": [
    {
     "data": {
      "application/vnd.jupyter.widget-view+json": {
       "model_id": "e46b684e56614347ae05d5e3d9bee9b9",
       "version_major": 2,
       "version_minor": 0
      },
      "text/plain": [
       "  0%|          | 0/1000 [00:00<?, ?it/s]"
      ]
     },
     "metadata": {},
     "output_type": "display_data"
    }
   ],
   "source": [
    "# Running the polarity score on the entire dataset\n",
    "res = {}\n",
    "for i, row in tqdm(df.iterrows(), total=len(df)):\n",
    "    text = row['Review']\n",
    "    myid = row['Id']\n",
    "    res[myid] = sia.polarity_scores(text)"
   ]
  },
  {
   "cell_type": "code",
   "execution_count": 29,
   "id": "69ce115a",
   "metadata": {},
   "outputs": [],
   "source": [
    "vaders = pd.DataFrame(res).T\n",
    "vaders = vaders.reset_index().rename(columns={'index': 'Id'})\n",
    "vaders = vaders.merge(df, how='left')"
   ]
  },
  {
   "cell_type": "code",
   "execution_count": 30,
   "id": "56b22efe",
   "metadata": {},
   "outputs": [
    {
     "data": {
      "text/html": [
       "<div>\n",
       "<style scoped>\n",
       "    .dataframe tbody tr th:only-of-type {\n",
       "        vertical-align: middle;\n",
       "    }\n",
       "\n",
       "    .dataframe tbody tr th {\n",
       "        vertical-align: top;\n",
       "    }\n",
       "\n",
       "    .dataframe thead th {\n",
       "        text-align: right;\n",
       "    }\n",
       "</style>\n",
       "<table border=\"1\" class=\"dataframe\">\n",
       "  <thead>\n",
       "    <tr style=\"text-align: right;\">\n",
       "      <th></th>\n",
       "      <th>Id</th>\n",
       "      <th>neg</th>\n",
       "      <th>neu</th>\n",
       "      <th>pos</th>\n",
       "      <th>compound</th>\n",
       "      <th>Topic</th>\n",
       "      <th>Sentiment</th>\n",
       "      <th>Review</th>\n",
       "    </tr>\n",
       "  </thead>\n",
       "  <tbody>\n",
       "    <tr>\n",
       "      <th>0</th>\n",
       "      <td>3364</td>\n",
       "      <td>0.162</td>\n",
       "      <td>0.713</td>\n",
       "      <td>0.125</td>\n",
       "      <td>-0.2263</td>\n",
       "      <td>Facebook</td>\n",
       "      <td>Irrelevant</td>\n",
       "      <td>I mentioned on Facebook that I was struggling ...</td>\n",
       "    </tr>\n",
       "    <tr>\n",
       "      <th>1</th>\n",
       "      <td>352</td>\n",
       "      <td>0.174</td>\n",
       "      <td>0.598</td>\n",
       "      <td>0.228</td>\n",
       "      <td>-0.0000</td>\n",
       "      <td>Amazon</td>\n",
       "      <td>Neutral</td>\n",
       "      <td>BBC News - Amazon boss Jeff Bezos rejects clai...</td>\n",
       "    </tr>\n",
       "    <tr>\n",
       "      <th>2</th>\n",
       "      <td>8312</td>\n",
       "      <td>0.091</td>\n",
       "      <td>0.909</td>\n",
       "      <td>0.000</td>\n",
       "      <td>-0.1027</td>\n",
       "      <td>Microsoft</td>\n",
       "      <td>Negative</td>\n",
       "      <td>@Microsoft Why do I pay for WORD when it funct...</td>\n",
       "    </tr>\n",
       "    <tr>\n",
       "      <th>3</th>\n",
       "      <td>4371</td>\n",
       "      <td>0.189</td>\n",
       "      <td>0.629</td>\n",
       "      <td>0.182</td>\n",
       "      <td>-0.0258</td>\n",
       "      <td>CS-GO</td>\n",
       "      <td>Negative</td>\n",
       "      <td>CSGO matchmaking is so full of closet hacking,...</td>\n",
       "    </tr>\n",
       "    <tr>\n",
       "      <th>4</th>\n",
       "      <td>4433</td>\n",
       "      <td>0.000</td>\n",
       "      <td>0.897</td>\n",
       "      <td>0.103</td>\n",
       "      <td>0.4157</td>\n",
       "      <td>Google</td>\n",
       "      <td>Neutral</td>\n",
       "      <td>Now the President is slapping Americans in the...</td>\n",
       "    </tr>\n",
       "  </tbody>\n",
       "</table>\n",
       "</div>"
      ],
      "text/plain": [
       "     Id    neg    neu    pos  compound      Topic   Sentiment  \\\n",
       "0  3364  0.162  0.713  0.125   -0.2263   Facebook  Irrelevant   \n",
       "1   352  0.174  0.598  0.228   -0.0000     Amazon     Neutral   \n",
       "2  8312  0.091  0.909  0.000   -0.1027  Microsoft    Negative   \n",
       "3  4371  0.189  0.629  0.182   -0.0258      CS-GO    Negative   \n",
       "4  4433  0.000  0.897  0.103    0.4157     Google     Neutral   \n",
       "\n",
       "                                              Review  \n",
       "0  I mentioned on Facebook that I was struggling ...  \n",
       "1  BBC News - Amazon boss Jeff Bezos rejects clai...  \n",
       "2  @Microsoft Why do I pay for WORD when it funct...  \n",
       "3  CSGO matchmaking is so full of closet hacking,...  \n",
       "4  Now the President is slapping Americans in the...  "
      ]
     },
     "execution_count": 30,
     "metadata": {},
     "output_type": "execute_result"
    }
   ],
   "source": [
    "# Now we have sentiment score and metadata\n",
    "vaders.head()"
   ]
  },
  {
   "cell_type": "code",
   "execution_count": 31,
   "id": "35fd0448",
   "metadata": {},
   "outputs": [
    {
     "data": {
      "image/png": "[encoded data removed]",
      "text/plain": [
       "<Figure size 432x288 with 1 Axes>"
      ]
     },
     "metadata": {},
     "output_type": "display_data"
    }
   ],
   "source": [
    "ax = sns.barplot(data=vaders, x='Sentiment', y='compound')\n",
    "ax.set_title('Compund Score by Review')\n",
    "plt.show()"
   ]
  },
  {
   "cell_type": "code",
   "execution_count": 32,
   "id": "0f846cdb",
   "metadata": {},
   "outputs": [
    {
     "data": {
      "image/png": "[encoded data removed]",
      "text/plain": [
       "<Figure size 864x216 with 3 Axes>"
      ]
     },
     "metadata": {},
     "output_type": "display_data"
    }
   ],
   "source": [
    "fig, axs = plt.subplots(1, 3, figsize=(12, 3))\n",
    "sns.barplot(data=vaders, x='Sentiment', y='pos', ax=axs[0])\n",
    "sns.barplot(data=vaders, x='Sentiment', y='neu', ax=axs[1])\n",
    "sns.barplot(data=vaders, x='Sentiment', y='neg', ax=axs[2])\n",
    "axs[0].set_title('Positive')\n",
    "axs[1].set_title('Neutral')\n",
    "axs[2].set_title('Negative')\n",
    "plt.tight_layout()\n",
    "plt.show()"
   ]
  },
  {
   "cell_type": "code",
   "execution_count": 38,
   "id": "90773795",
   "metadata": {},
   "outputs": [
    {
     "data": {
      "application/vnd.jupyter.widget-view+json": {
       "model_id": "c4a44b57a8b6413cbf99b3a5a11bc2da",
       "version_major": 2,
       "version_minor": 0
      },
      "text/plain": [
       "  0%|          | 0/1000 [00:00<?, ?it/s]"
      ]
     },
     "metadata": {},
     "output_type": "display_data"
    }
   ],
   "source": [
    "es = {}\n",
    "for i, row in tqdm(df.iterrows(), total=len(df)):\n",
    "    try:\n",
    "        text = row['Review']\n",
    "        myid = row['Id']\n",
    "        vader_result = sia.polarity_scores(text)\n",
    "        vader_result_rename = {}\n",
    "        for key, value in vader_result.items():\n",
    "            vader_result_rename[f\"vader_{key}\"] = value\n",
    "        both = {**vader_result_rename}\n",
    "        res[myid] = both\n",
    "    except RuntimeError:\n",
    "        print(f'Broke for id {myid}')\n"
   ]
  },
  {
   "cell_type": "code",
   "execution_count": 39,
   "id": "8866e830",
   "metadata": {},
   "outputs": [],
   "source": [
    "results_df = pd.DataFrame(res).T\n",
    "results_df = results_df.reset_index().rename(columns={'index': 'Id'})\n",
    "results_df = results_df.merge(df, how='left')"
   ]
  },
  {
   "cell_type": "code",
   "execution_count": 40,
   "id": "4f73fd65",
   "metadata": {},
   "outputs": [
    {
     "data": {
      "text/plain": [
       "Index(['Id', 'vader_neg', 'vader_neu', 'vader_pos', 'vader_compound', 'Topic',\n",
       "       'Sentiment', 'Review'],\n",
       "      dtype='object')"
      ]
     },
     "execution_count": 40,
     "metadata": {},
     "output_type": "execute_result"
    }
   ],
   "source": [
    "results_df.columns"
   ]
  },
  {
   "cell_type": "code",
   "execution_count": 51,
   "id": "4f94ccb1",
   "metadata": {},
   "outputs": [
    {
     "data": {
      "text/plain": [
       "'Wow'"
      ]
     },
     "execution_count": 51,
     "metadata": {},
     "output_type": "execute_result"
    }
   ],
   "source": [
    "results_df.query('Sentiment == \"Positive\"') \\\n",
    "    .sort_values('vader_pos', ascending=False)['Review'].values[1]"
   ]
  },
  {
   "cell_type": "code",
   "execution_count": 52,
   "id": "b02f8f12",
   "metadata": {},
   "outputs": [
    {
     "data": {
      "text/plain": [
       "'So glad I never joined Facebook.'"
      ]
     },
     "execution_count": 52,
     "metadata": {},
     "output_type": "execute_result"
    }
   ],
   "source": [
    "results_df.query('Sentiment == \"Negative\"') \\\n",
    "    .sort_values('vader_pos', ascending=False)['Review'].values[3]"
   ]
  },
  {
   "cell_type": "code",
   "execution_count": null,
   "id": "9c7a1cee",
   "metadata": {},
   "outputs": [],
   "source": []
  }
 ],
 "metadata": {
  "kernelspec": {
   "display_name": "Python 3",
   "language": "python",
   "name": "python3"
  },
  "language_info": {
   "codemirror_mode": {
    "name": "ipython",
    "version": 3
   },
   "file_extension": ".py",
   "mimetype": "text/x-python",
   "name": "python",
   "nbconvert_exporter": "python",
   "pygments_lexer": "ipython3",
   "version": "3.6.13"
  }
 },
 "nbformat": 4,
 "nbformat_minor": 5
}
