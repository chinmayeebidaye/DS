{
 "cells": [
  {
   "cell_type": "code",
   "execution_count": 15,
   "id": "96fafbcb",
   "metadata": {},
   "outputs": [],
   "source": [
    "import pandas as pd\n",
    "import numpy as np\n",
    "import matplotlib.pyplot as plt\n",
    "import seaborn as sns"
   ]
  },
  {
   "cell_type": "code",
   "execution_count": 16,
   "id": "c7b56397",
   "metadata": {},
   "outputs": [],
   "source": [
    "df = pd.read_csv(\"world_population.csv\")"
   ]
  },
  {
   "cell_type": "code",
   "execution_count": 17,
   "id": "e4522824",
   "metadata": {},
   "outputs": [
    {
     "data": {
      "text/html": [
       "<div>\n",
       "<style scoped>\n",
       "    .dataframe tbody tr th:only-of-type {\n",
       "        vertical-align: middle;\n",
       "    }\n",
       "\n",
       "    .dataframe tbody tr th {\n",
       "        vertical-align: top;\n",
       "    }\n",
       "\n",
       "    .dataframe thead th {\n",
       "        text-align: right;\n",
       "    }\n",
       "</style>\n",
       "<table border=\"1\" class=\"dataframe\">\n",
       "  <thead>\n",
       "    <tr style=\"text-align: right;\">\n",
       "      <th></th>\n",
       "      <th>Rank</th>\n",
       "      <th>CCA3</th>\n",
       "      <th>Country/Territory</th>\n",
       "      <th>Capital</th>\n",
       "      <th>Continent</th>\n",
       "      <th>2022 Population</th>\n",
       "      <th>2020 Population</th>\n",
       "      <th>2015 Population</th>\n",
       "      <th>2010 Population</th>\n",
       "      <th>2000 Population</th>\n",
       "      <th>1990 Population</th>\n",
       "      <th>1980 Population</th>\n",
       "      <th>1970 Population</th>\n",
       "      <th>Area (km²)</th>\n",
       "      <th>Density (per km²)</th>\n",
       "      <th>Growth Rate</th>\n",
       "      <th>World Population Percentage</th>\n",
       "    </tr>\n",
       "  </thead>\n",
       "  <tbody>\n",
       "    <tr>\n",
       "      <th>0</th>\n",
       "      <td>36</td>\n",
       "      <td>AFG</td>\n",
       "      <td>Afghanistan</td>\n",
       "      <td>Kabul</td>\n",
       "      <td>Asia</td>\n",
       "      <td>41128771</td>\n",
       "      <td>38972230</td>\n",
       "      <td>33753499</td>\n",
       "      <td>28189672</td>\n",
       "      <td>19542982</td>\n",
       "      <td>10694796</td>\n",
       "      <td>12486631</td>\n",
       "      <td>10752971</td>\n",
       "      <td>652230</td>\n",
       "      <td>63.0587</td>\n",
       "      <td>1.0257</td>\n",
       "      <td>0.52</td>\n",
       "    </tr>\n",
       "    <tr>\n",
       "      <th>1</th>\n",
       "      <td>138</td>\n",
       "      <td>ALB</td>\n",
       "      <td>Albania</td>\n",
       "      <td>Tirana</td>\n",
       "      <td>Europe</td>\n",
       "      <td>2842321</td>\n",
       "      <td>2866849</td>\n",
       "      <td>2882481</td>\n",
       "      <td>2913399</td>\n",
       "      <td>3182021</td>\n",
       "      <td>3295066</td>\n",
       "      <td>2941651</td>\n",
       "      <td>2324731</td>\n",
       "      <td>28748</td>\n",
       "      <td>98.8702</td>\n",
       "      <td>0.9957</td>\n",
       "      <td>0.04</td>\n",
       "    </tr>\n",
       "    <tr>\n",
       "      <th>2</th>\n",
       "      <td>34</td>\n",
       "      <td>DZA</td>\n",
       "      <td>Algeria</td>\n",
       "      <td>Algiers</td>\n",
       "      <td>Africa</td>\n",
       "      <td>44903225</td>\n",
       "      <td>43451666</td>\n",
       "      <td>39543154</td>\n",
       "      <td>35856344</td>\n",
       "      <td>30774621</td>\n",
       "      <td>25518074</td>\n",
       "      <td>18739378</td>\n",
       "      <td>13795915</td>\n",
       "      <td>2381741</td>\n",
       "      <td>18.8531</td>\n",
       "      <td>1.0164</td>\n",
       "      <td>0.56</td>\n",
       "    </tr>\n",
       "    <tr>\n",
       "      <th>3</th>\n",
       "      <td>213</td>\n",
       "      <td>ASM</td>\n",
       "      <td>American Samoa</td>\n",
       "      <td>Pago Pago</td>\n",
       "      <td>Oceania</td>\n",
       "      <td>44273</td>\n",
       "      <td>46189</td>\n",
       "      <td>51368</td>\n",
       "      <td>54849</td>\n",
       "      <td>58230</td>\n",
       "      <td>47818</td>\n",
       "      <td>32886</td>\n",
       "      <td>27075</td>\n",
       "      <td>199</td>\n",
       "      <td>222.4774</td>\n",
       "      <td>0.9831</td>\n",
       "      <td>0.00</td>\n",
       "    </tr>\n",
       "    <tr>\n",
       "      <th>4</th>\n",
       "      <td>203</td>\n",
       "      <td>AND</td>\n",
       "      <td>Andorra</td>\n",
       "      <td>Andorra la Vella</td>\n",
       "      <td>Europe</td>\n",
       "      <td>79824</td>\n",
       "      <td>77700</td>\n",
       "      <td>71746</td>\n",
       "      <td>71519</td>\n",
       "      <td>66097</td>\n",
       "      <td>53569</td>\n",
       "      <td>35611</td>\n",
       "      <td>19860</td>\n",
       "      <td>468</td>\n",
       "      <td>170.5641</td>\n",
       "      <td>1.0100</td>\n",
       "      <td>0.00</td>\n",
       "    </tr>\n",
       "  </tbody>\n",
       "</table>\n",
       "</div>"
      ],
      "text/plain": [
       "   Rank CCA3 Country/Territory           Capital Continent  2022 Population  \\\n",
       "0    36  AFG       Afghanistan             Kabul      Asia         41128771   \n",
       "1   138  ALB           Albania            Tirana    Europe          2842321   \n",
       "2    34  DZA           Algeria           Algiers    Africa         44903225   \n",
       "3   213  ASM    American Samoa         Pago Pago   Oceania            44273   \n",
       "4   203  AND           Andorra  Andorra la Vella    Europe            79824   \n",
       "\n",
       "   2020 Population  2015 Population  2010 Population  2000 Population  \\\n",
       "0         38972230         33753499         28189672         19542982   \n",
       "1          2866849          2882481          2913399          3182021   \n",
       "2         43451666         39543154         35856344         30774621   \n",
       "3            46189            51368            54849            58230   \n",
       "4            77700            71746            71519            66097   \n",
       "\n",
       "   1990 Population  1980 Population  1970 Population  Area (km²)  \\\n",
       "0         10694796         12486631         10752971      652230   \n",
       "1          3295066          2941651          2324731       28748   \n",
       "2         25518074         18739378         13795915     2381741   \n",
       "3            47818            32886            27075         199   \n",
       "4            53569            35611            19860         468   \n",
       "\n",
       "   Density (per km²)  Growth Rate  World Population Percentage  \n",
       "0            63.0587       1.0257                         0.52  \n",
       "1            98.8702       0.9957                         0.04  \n",
       "2            18.8531       1.0164                         0.56  \n",
       "3           222.4774       0.9831                         0.00  \n",
       "4           170.5641       1.0100                         0.00  "
      ]
     },
     "execution_count": 17,
     "metadata": {},
     "output_type": "execute_result"
    }
   ],
   "source": [
    "df.head()"
   ]
  },
  {
   "cell_type": "code",
   "execution_count": 18,
   "id": "004b9ed4",
   "metadata": {},
   "outputs": [
    {
     "name": "stdout",
     "output_type": "stream",
     "text": [
      "<class 'pandas.core.frame.DataFrame'>\n",
      "RangeIndex: 234 entries, 0 to 233\n",
      "Data columns (total 17 columns):\n",
      " #   Column                       Non-Null Count  Dtype  \n",
      "---  ------                       --------------  -----  \n",
      " 0   Rank                         234 non-null    int64  \n",
      " 1   CCA3                         234 non-null    object \n",
      " 2   Country/Territory            234 non-null    object \n",
      " 3   Capital                      234 non-null    object \n",
      " 4   Continent                    234 non-null    object \n",
      " 5   2022 Population              234 non-null    int64  \n",
      " 6   2020 Population              234 non-null    int64  \n",
      " 7   2015 Population              234 non-null    int64  \n",
      " 8   2010 Population              234 non-null    int64  \n",
      " 9   2000 Population              234 non-null    int64  \n",
      " 10  1990 Population              234 non-null    int64  \n",
      " 11  1980 Population              234 non-null    int64  \n",
      " 12  1970 Population              234 non-null    int64  \n",
      " 13  Area (km²)                   234 non-null    int64  \n",
      " 14  Density (per km²)            234 non-null    float64\n",
      " 15  Growth Rate                  234 non-null    float64\n",
      " 16  World Population Percentage  234 non-null    float64\n",
      "dtypes: float64(3), int64(10), object(4)\n",
      "memory usage: 31.2+ KB\n"
     ]
    }
   ],
   "source": [
    "df.info()"
   ]
  },
  {
   "cell_type": "code",
   "execution_count": 19,
   "id": "9e14521b",
   "metadata": {},
   "outputs": [
    {
     "data": {
      "text/plain": [
       "Rank                           0\n",
       "CCA3                           0\n",
       "Country/Territory              0\n",
       "Capital                        0\n",
       "Continent                      0\n",
       "2022 Population                0\n",
       "2020 Population                0\n",
       "2015 Population                0\n",
       "2010 Population                0\n",
       "2000 Population                0\n",
       "1990 Population                0\n",
       "1980 Population                0\n",
       "1970 Population                0\n",
       "Area (km²)                     0\n",
       "Density (per km²)              0\n",
       "Growth Rate                    0\n",
       "World Population Percentage    0\n",
       "dtype: int64"
      ]
     },
     "execution_count": 19,
     "metadata": {},
     "output_type": "execute_result"
    }
   ],
   "source": [
    "df.isnull().sum() #to check if there is any null value as there is no null value we dont need to replace anything"
   ]
  },
  {
   "cell_type": "code",
   "execution_count": 20,
   "id": "e48e53ed",
   "metadata": {},
   "outputs": [
    {
     "data": {
      "text/plain": [
       "(234, 17)"
      ]
     },
     "execution_count": 20,
     "metadata": {},
     "output_type": "execute_result"
    }
   ],
   "source": [
    "df.shape"
   ]
  },
  {
   "cell_type": "markdown",
   "id": "0266076e",
   "metadata": {},
   "source": [
    "FINDING CATEGORICAL VARIABLE"
   ]
  },
  {
   "cell_type": "code",
   "execution_count": 21,
   "id": "1a76f87f",
   "metadata": {},
   "outputs": [
    {
     "data": {
      "text/plain": [
       "Africa           57\n",
       "Asia             50\n",
       "Europe           50\n",
       "North America    40\n",
       "Oceania          23\n",
       "South America    14\n",
       "Name: Continent, dtype: int64"
      ]
     },
     "execution_count": 21,
     "metadata": {},
     "output_type": "execute_result"
    }
   ],
   "source": [
    "df[\"Continent\"].value_counts()"
   ]
  },
  {
   "cell_type": "markdown",
   "id": "4bb95f14",
   "metadata": {},
   "source": [
    "Plotting bar graphs between the continents and their population"
   ]
  },
  {
   "cell_type": "code",
   "execution_count": 22,
   "id": "d11e51c9",
   "metadata": {},
   "outputs": [
    {
     "data": {
      "image/png": "[encoded data removed]",
      "text/plain": [
       "<Figure size 640x480 with 1 Axes>"
      ]
     },
     "metadata": {},
     "output_type": "display_data"
    }
   ],
   "source": [
    "sns.barplot(x=df['Continent'],y=df['2022 Population'])\n",
    "plt.xticks(rotation='vertical')\n",
    "plt.show()"
   ]
  },
  {
   "cell_type": "code",
   "execution_count": 23,
   "id": "1b994a0f",
   "metadata": {},
   "outputs": [
    {
     "data": {
      "text/plain": [
       "<AxesSubplot:xlabel='2022 Population', ylabel='Area (km²)'>"
      ]
     },
     "execution_count": 23,
     "metadata": {},
     "output_type": "execute_result"
    },
    {
     "data": {
      "image/png": "[encoded data removed]",
      "text/plain": [
       "<Figure size 640x480 with 1 Axes>"
      ]
     },
     "metadata": {},
     "output_type": "display_data"
    }
   ],
   "source": [
    "sns.scatterplot(x=df[\"2022 Population\"],y=df['Area (km²)'])"
   ]
  },
  {
   "cell_type": "code",
   "execution_count": 24,
   "id": "2947f5b6",
   "metadata": {},
   "outputs": [
    {
     "data": {
      "image/png": "[encoded data removed]",
      "text/plain": [
       "<Figure size 640x480 with 1 Axes>"
      ]
     },
     "metadata": {},
     "output_type": "display_data"
    }
   ],
   "source": [
    "sns.barplot(x=df['Area (km²)'],y=df['2022 Population'])\n",
    "plt.xticks(rotation='vertical')\n",
    "plt.show()"
   ]
  },
  {
   "cell_type": "code",
   "execution_count": 58,
   "id": "89e048dc",
   "metadata": {},
   "outputs": [
    {
     "name": "stdout",
     "output_type": "stream",
     "text": [
      "Index(['Rank', 'CCA3', 'Country/Territory', 'Capital', 'Continent',\n",
      "       '2022 Population', '2020 Population', '2015 Population',\n",
      "       '2010 Population', '2000 Population', '1990 Population',\n",
      "       '1980 Population', '1970 Population', 'Area (km²)', 'Density (per km²)',\n",
      "       'Growth Rate', 'World Population Percentage', 'Class Interval',\n",
      "       'Population_in_Thousands2022'],\n",
      "      dtype='object')\n"
     ]
    }
   ],
   "source": [
    "print(df.columns)"
   ]
  },
  {
   "cell_type": "code",
   "execution_count": 29,
   "id": "2d5d1812",
   "metadata": {
    "scrolled": false
   },
   "outputs": [
    {
     "data": {
      "text/html": [
       "<div>\n",
       "<style scoped>\n",
       "    .dataframe tbody tr th:only-of-type {\n",
       "        vertical-align: middle;\n",
       "    }\n",
       "\n",
       "    .dataframe tbody tr th {\n",
       "        vertical-align: top;\n",
       "    }\n",
       "\n",
       "    .dataframe thead th {\n",
       "        text-align: right;\n",
       "    }\n",
       "</style>\n",
       "<table border=\"1\" class=\"dataframe\">\n",
       "  <thead>\n",
       "    <tr style=\"text-align: right;\">\n",
       "      <th></th>\n",
       "      <th>Rank</th>\n",
       "      <th>CCA3</th>\n",
       "      <th>Country/Territory</th>\n",
       "      <th>Capital</th>\n",
       "      <th>Continent</th>\n",
       "      <th>2022 Population</th>\n",
       "      <th>2020 Population</th>\n",
       "      <th>2015 Population</th>\n",
       "      <th>2010 Population</th>\n",
       "      <th>2000 Population</th>\n",
       "      <th>1990 Population</th>\n",
       "      <th>1980 Population</th>\n",
       "      <th>1970 Population</th>\n",
       "      <th>Area (km²)</th>\n",
       "      <th>Density (per km²)</th>\n",
       "      <th>Growth Rate</th>\n",
       "      <th>World Population Percentage</th>\n",
       "    </tr>\n",
       "  </thead>\n",
       "  <tbody>\n",
       "    <tr>\n",
       "      <th>168</th>\n",
       "      <td>114</td>\n",
       "      <td>COG</td>\n",
       "      <td>Republic of the Congo</td>\n",
       "      <td>Brazzaville</td>\n",
       "      <td>Africa</td>\n",
       "      <td>5970424</td>\n",
       "      <td>5702174</td>\n",
       "      <td>5064386</td>\n",
       "      <td>4437884</td>\n",
       "      <td>3134030</td>\n",
       "      <td>2385435</td>\n",
       "      <td>1829256</td>\n",
       "      <td>1396989</td>\n",
       "      <td>342000</td>\n",
       "      <td>17.4574</td>\n",
       "      <td>1.0231</td>\n",
       "      <td>0.07</td>\n",
       "    </tr>\n",
       "    <tr>\n",
       "      <th>43</th>\n",
       "      <td>163</td>\n",
       "      <td>COM</td>\n",
       "      <td>Comoros</td>\n",
       "      <td>Moroni</td>\n",
       "      <td>Africa</td>\n",
       "      <td>836774</td>\n",
       "      <td>806166</td>\n",
       "      <td>730216</td>\n",
       "      <td>656024</td>\n",
       "      <td>536758</td>\n",
       "      <td>431119</td>\n",
       "      <td>328328</td>\n",
       "      <td>242351</td>\n",
       "      <td>1862</td>\n",
       "      <td>449.3953</td>\n",
       "      <td>1.0184</td>\n",
       "      <td>0.01</td>\n",
       "    </tr>\n",
       "    <tr>\n",
       "      <th>197</th>\n",
       "      <td>61</td>\n",
       "      <td>LKA</td>\n",
       "      <td>Sri Lanka</td>\n",
       "      <td>Colombo</td>\n",
       "      <td>Asia</td>\n",
       "      <td>21832143</td>\n",
       "      <td>21715079</td>\n",
       "      <td>21336697</td>\n",
       "      <td>20668557</td>\n",
       "      <td>18776371</td>\n",
       "      <td>17204094</td>\n",
       "      <td>14943645</td>\n",
       "      <td>12388769</td>\n",
       "      <td>65610</td>\n",
       "      <td>332.7563</td>\n",
       "      <td>1.0027</td>\n",
       "      <td>0.27</td>\n",
       "    </tr>\n",
       "    <tr>\n",
       "      <th>123</th>\n",
       "      <td>174</td>\n",
       "      <td>MDV</td>\n",
       "      <td>Maldives</td>\n",
       "      <td>Malé</td>\n",
       "      <td>Asia</td>\n",
       "      <td>523787</td>\n",
       "      <td>514438</td>\n",
       "      <td>435582</td>\n",
       "      <td>361575</td>\n",
       "      <td>282507</td>\n",
       "      <td>224957</td>\n",
       "      <td>164887</td>\n",
       "      <td>123243</td>\n",
       "      <td>300</td>\n",
       "      <td>1745.9567</td>\n",
       "      <td>1.0045</td>\n",
       "      <td>0.01</td>\n",
       "    </tr>\n",
       "    <tr>\n",
       "      <th>96</th>\n",
       "      <td>125</td>\n",
       "      <td>IRL</td>\n",
       "      <td>Ireland</td>\n",
       "      <td>Dublin</td>\n",
       "      <td>Europe</td>\n",
       "      <td>5023109</td>\n",
       "      <td>4946119</td>\n",
       "      <td>4665760</td>\n",
       "      <td>4524585</td>\n",
       "      <td>3768950</td>\n",
       "      <td>3485374</td>\n",
       "      <td>3391387</td>\n",
       "      <td>2937637</td>\n",
       "      <td>70273</td>\n",
       "      <td>71.4799</td>\n",
       "      <td>1.0073</td>\n",
       "      <td>0.06</td>\n",
       "    </tr>\n",
       "    <tr>\n",
       "      <th>41</th>\n",
       "      <td>1</td>\n",
       "      <td>CHN</td>\n",
       "      <td>China</td>\n",
       "      <td>Beijing</td>\n",
       "      <td>Asia</td>\n",
       "      <td>1425887337</td>\n",
       "      <td>1424929781</td>\n",
       "      <td>1393715448</td>\n",
       "      <td>1348191368</td>\n",
       "      <td>1264099069</td>\n",
       "      <td>1153704252</td>\n",
       "      <td>982372466</td>\n",
       "      <td>822534450</td>\n",
       "      <td>9706961</td>\n",
       "      <td>146.8933</td>\n",
       "      <td>1.0000</td>\n",
       "      <td>17.88</td>\n",
       "    </tr>\n",
       "    <tr>\n",
       "      <th>135</th>\n",
       "      <td>134</td>\n",
       "      <td>MNG</td>\n",
       "      <td>Mongolia</td>\n",
       "      <td>Ulaanbaatar</td>\n",
       "      <td>Asia</td>\n",
       "      <td>3398366</td>\n",
       "      <td>3294335</td>\n",
       "      <td>2964749</td>\n",
       "      <td>2702520</td>\n",
       "      <td>2450979</td>\n",
       "      <td>2161433</td>\n",
       "      <td>1697780</td>\n",
       "      <td>1293880</td>\n",
       "      <td>1564110</td>\n",
       "      <td>2.1727</td>\n",
       "      <td>1.0151</td>\n",
       "      <td>0.04</td>\n",
       "    </tr>\n",
       "    <tr>\n",
       "      <th>122</th>\n",
       "      <td>45</td>\n",
       "      <td>MYS</td>\n",
       "      <td>Malaysia</td>\n",
       "      <td>Kuala Lumpur</td>\n",
       "      <td>Asia</td>\n",
       "      <td>33938221</td>\n",
       "      <td>33199993</td>\n",
       "      <td>31068833</td>\n",
       "      <td>28717731</td>\n",
       "      <td>22945150</td>\n",
       "      <td>17517054</td>\n",
       "      <td>13215707</td>\n",
       "      <td>10306508</td>\n",
       "      <td>330803</td>\n",
       "      <td>102.5934</td>\n",
       "      <td>1.0109</td>\n",
       "      <td>0.43</td>\n",
       "    </tr>\n",
       "    <tr>\n",
       "      <th>31</th>\n",
       "      <td>58</td>\n",
       "      <td>BFA</td>\n",
       "      <td>Burkina Faso</td>\n",
       "      <td>Ouagadougou</td>\n",
       "      <td>Africa</td>\n",
       "      <td>22673762</td>\n",
       "      <td>21522626</td>\n",
       "      <td>18718019</td>\n",
       "      <td>16116845</td>\n",
       "      <td>11882888</td>\n",
       "      <td>9131361</td>\n",
       "      <td>6932967</td>\n",
       "      <td>5611666</td>\n",
       "      <td>272967</td>\n",
       "      <td>83.0641</td>\n",
       "      <td>1.0259</td>\n",
       "      <td>0.28</td>\n",
       "    </tr>\n",
       "    <tr>\n",
       "      <th>4</th>\n",
       "      <td>203</td>\n",
       "      <td>AND</td>\n",
       "      <td>Andorra</td>\n",
       "      <td>Andorra la Vella</td>\n",
       "      <td>Europe</td>\n",
       "      <td>79824</td>\n",
       "      <td>77700</td>\n",
       "      <td>71746</td>\n",
       "      <td>71519</td>\n",
       "      <td>66097</td>\n",
       "      <td>53569</td>\n",
       "      <td>35611</td>\n",
       "      <td>19860</td>\n",
       "      <td>468</td>\n",
       "      <td>170.5641</td>\n",
       "      <td>1.0100</td>\n",
       "      <td>0.00</td>\n",
       "    </tr>\n",
       "  </tbody>\n",
       "</table>\n",
       "</div>"
      ],
      "text/plain": [
       "     Rank CCA3      Country/Territory           Capital Continent  \\\n",
       "168   114  COG  Republic of the Congo       Brazzaville    Africa   \n",
       "43    163  COM                Comoros            Moroni    Africa   \n",
       "197    61  LKA              Sri Lanka           Colombo      Asia   \n",
       "123   174  MDV               Maldives              Malé      Asia   \n",
       "96    125  IRL                Ireland            Dublin    Europe   \n",
       "41      1  CHN                  China           Beijing      Asia   \n",
       "135   134  MNG               Mongolia       Ulaanbaatar      Asia   \n",
       "122    45  MYS               Malaysia      Kuala Lumpur      Asia   \n",
       "31     58  BFA           Burkina Faso       Ouagadougou    Africa   \n",
       "4     203  AND                Andorra  Andorra la Vella    Europe   \n",
       "\n",
       "     2022 Population  2020 Population  2015 Population  2010 Population  \\\n",
       "168          5970424          5702174          5064386          4437884   \n",
       "43            836774           806166           730216           656024   \n",
       "197         21832143         21715079         21336697         20668557   \n",
       "123           523787           514438           435582           361575   \n",
       "96           5023109          4946119          4665760          4524585   \n",
       "41        1425887337       1424929781       1393715448       1348191368   \n",
       "135          3398366          3294335          2964749          2702520   \n",
       "122         33938221         33199993         31068833         28717731   \n",
       "31          22673762         21522626         18718019         16116845   \n",
       "4              79824            77700            71746            71519   \n",
       "\n",
       "     2000 Population  1990 Population  1980 Population  1970 Population  \\\n",
       "168          3134030          2385435          1829256          1396989   \n",
       "43            536758           431119           328328           242351   \n",
       "197         18776371         17204094         14943645         12388769   \n",
       "123           282507           224957           164887           123243   \n",
       "96           3768950          3485374          3391387          2937637   \n",
       "41        1264099069       1153704252        982372466        822534450   \n",
       "135          2450979          2161433          1697780          1293880   \n",
       "122         22945150         17517054         13215707         10306508   \n",
       "31          11882888          9131361          6932967          5611666   \n",
       "4              66097            53569            35611            19860   \n",
       "\n",
       "     Area (km²)  Density (per km²)  Growth Rate  World Population Percentage  \n",
       "168      342000            17.4574       1.0231                         0.07  \n",
       "43         1862           449.3953       1.0184                         0.01  \n",
       "197       65610           332.7563       1.0027                         0.27  \n",
       "123         300          1745.9567       1.0045                         0.01  \n",
       "96        70273            71.4799       1.0073                         0.06  \n",
       "41      9706961           146.8933       1.0000                        17.88  \n",
       "135     1564110             2.1727       1.0151                         0.04  \n",
       "122      330803           102.5934       1.0109                         0.43  \n",
       "31       272967            83.0641       1.0259                         0.28  \n",
       "4           468           170.5641       1.0100                         0.00  "
      ]
     },
     "execution_count": 29,
     "metadata": {},
     "output_type": "execute_result"
    }
   ],
   "source": [
    "df.sample(10)"
   ]
  },
  {
   "cell_type": "markdown",
   "id": "d1af634b",
   "metadata": {},
   "source": [
    "making a histogram using the population and the no of countries"
   ]
  },
  {
   "cell_type": "code",
   "execution_count": 28,
   "id": "adaa0b80",
   "metadata": {},
   "outputs": [
    {
     "data": {
      "text/plain": [
       "(510, 1425887337)"
      ]
     },
     "execution_count": 28,
     "metadata": {},
     "output_type": "execute_result"
    }
   ],
   "source": [
    "min_pop = df['2022 Population'].min() #finding minimum and maximum value to make bins\n",
    "max_pop = df['2022 Population'].max()\n",
    "min_pop, max_pop"
   ]
  },
  {
   "cell_type": "code",
   "execution_count": 42,
   "id": "121a40f3",
   "metadata": {},
   "outputs": [],
   "source": [
    "bins = [0, 150000, 1500000, 15000000, 150000000, 1500000000]  # Define the bin edges\n",
    "labels = ['0-150000', '150000-1500000', '1500000-15000000', '15000000-150000000', '150000000-1500000000']  # Define the labels for the bins\n"
   ]
  },
  {
   "cell_type": "code",
   "execution_count": 43,
   "id": "6a8d2193",
   "metadata": {},
   "outputs": [],
   "source": [
    "df['Class Interval'] = pd.cut(df['2022 Population'], bins=bins, labels=labels, right=False)"
   ]
  },
  {
   "cell_type": "code",
   "execution_count": 44,
   "id": "6c59ebf7",
   "metadata": {},
   "outputs": [],
   "source": [
    "frequency = df['Class Interval'].value_counts().sort_index()"
   ]
  },
  {
   "cell_type": "code",
   "execution_count": 45,
   "id": "f857de39",
   "metadata": {},
   "outputs": [
    {
     "name": "stdout",
     "output_type": "stream",
     "text": [
      "                            Class Interval  Frequency\n",
      "0-150000                          0-150000         43\n",
      "150000-1500000              150000-1500000         38\n",
      "1500000-15000000          1500000-15000000         79\n",
      "15000000-150000000      15000000-150000000         66\n",
      "150000000-1500000000  150000000-1500000000          8\n"
     ]
    }
   ],
   "source": [
    "class_interval_table = pd.DataFrame({'Class Interval': labels, 'Frequency': frequency})\n",
    "\n",
    "# Fill NaN values with 0 (if any class interval has zero frequency)\n",
    "class_interval_table['Frequency'] = class_interval_table['Frequency'].fillna(0).astype(int)\n",
    "\n",
    "# Display the class interval table\n",
    "print(class_interval_table)"
   ]
  },
  {
   "cell_type": "code",
   "execution_count": 46,
   "id": "efd1e407",
   "metadata": {},
   "outputs": [],
   "source": [
    "df1=class_interval_table"
   ]
  },
  {
   "cell_type": "code",
   "execution_count": 48,
   "id": "653223f1",
   "metadata": {},
   "outputs": [
    {
     "data": {
      "image/png": "[encoded data removed]",
      "text/plain": [
       "<Figure size 640x480 with 1 Axes>"
      ]
     },
     "metadata": {},
     "output_type": "display_data"
    }
   ],
   "source": [
    "bins = [0, 150000, 1500000, 15000000, 150000000, 1500000000]\n",
    "\n",
    "# Use frequencies as heights\n",
    "heights = df1['Frequency'].tolist()\n",
    "\n",
    "# Plot the histogram\n",
    "plt.bar(bins[:-1], heights, width=1300, align='edge', edgecolor='black')\n",
    "\n",
    "# Add labels and title\n",
    "plt.xlabel('Population')\n",
    "plt.ylabel('Frequency')\n",
    "plt.title('Histogram of countries population')\n",
    "\n",
    "# Show the plot\n",
    "plt.show()"
   ]
  },
  {
   "cell_type": "code",
   "execution_count": 49,
   "id": "02cafb6f",
   "metadata": {},
   "outputs": [
    {
     "data": {
      "text/plain": [
       "(array([225.,   6.,   1.,   0.,   0.,   0.,   0.,   0.,   0.,   2.]),\n",
       " array([5.10000000e+02, 1.42589193e+08, 2.85177875e+08, 4.27766558e+08,\n",
       "        5.70355241e+08, 7.12943924e+08, 8.55532606e+08, 9.98121289e+08,\n",
       "        1.14070997e+09, 1.28329865e+09, 1.42588734e+09]),\n",
       " <BarContainer object of 10 artists>)"
      ]
     },
     "execution_count": 49,
     "metadata": {},
     "output_type": "execute_result"
    },
    {
     "data": {
      "image/png": "[encoded data removed]",
      "text/plain": [
       "<Figure size 640x480 with 1 Axes>"
      ]
     },
     "metadata": {},
     "output_type": "display_data"
    }
   ],
   "source": [
    "plt.hist(df['2022 Population'])"
   ]
  },
  {
   "cell_type": "code",
   "execution_count": 55,
   "id": "ec6495ef",
   "metadata": {},
   "outputs": [],
   "source": [
    "df['Population_in_Thousands2022'] = df['2022 Population'] / 100000\n"
   ]
  },
  {
   "cell_type": "code",
   "execution_count": 56,
   "id": "2b47c9e2",
   "metadata": {},
   "outputs": [
    {
     "data": {
      "text/html": [
       "<div>\n",
       "<style scoped>\n",
       "    .dataframe tbody tr th:only-of-type {\n",
       "        vertical-align: middle;\n",
       "    }\n",
       "\n",
       "    .dataframe tbody tr th {\n",
       "        vertical-align: top;\n",
       "    }\n",
       "\n",
       "    .dataframe thead th {\n",
       "        text-align: right;\n",
       "    }\n",
       "</style>\n",
       "<table border=\"1\" class=\"dataframe\">\n",
       "  <thead>\n",
       "    <tr style=\"text-align: right;\">\n",
       "      <th></th>\n",
       "      <th>Rank</th>\n",
       "      <th>CCA3</th>\n",
       "      <th>Country/Territory</th>\n",
       "      <th>Capital</th>\n",
       "      <th>Continent</th>\n",
       "      <th>2022 Population</th>\n",
       "      <th>2020 Population</th>\n",
       "      <th>2015 Population</th>\n",
       "      <th>2010 Population</th>\n",
       "      <th>2000 Population</th>\n",
       "      <th>1990 Population</th>\n",
       "      <th>1980 Population</th>\n",
       "      <th>1970 Population</th>\n",
       "      <th>Area (km²)</th>\n",
       "      <th>Density (per km²)</th>\n",
       "      <th>Growth Rate</th>\n",
       "      <th>World Population Percentage</th>\n",
       "      <th>Class Interval</th>\n",
       "      <th>Population_in_Thousands2022</th>\n",
       "    </tr>\n",
       "  </thead>\n",
       "  <tbody>\n",
       "    <tr>\n",
       "      <th>0</th>\n",
       "      <td>36</td>\n",
       "      <td>AFG</td>\n",
       "      <td>Afghanistan</td>\n",
       "      <td>Kabul</td>\n",
       "      <td>Asia</td>\n",
       "      <td>41128771</td>\n",
       "      <td>38972230</td>\n",
       "      <td>33753499</td>\n",
       "      <td>28189672</td>\n",
       "      <td>19542982</td>\n",
       "      <td>10694796</td>\n",
       "      <td>12486631</td>\n",
       "      <td>10752971</td>\n",
       "      <td>652230</td>\n",
       "      <td>63.0587</td>\n",
       "      <td>1.0257</td>\n",
       "      <td>0.52</td>\n",
       "      <td>15000000-150000000</td>\n",
       "      <td>411.28771</td>\n",
       "    </tr>\n",
       "    <tr>\n",
       "      <th>1</th>\n",
       "      <td>138</td>\n",
       "      <td>ALB</td>\n",
       "      <td>Albania</td>\n",
       "      <td>Tirana</td>\n",
       "      <td>Europe</td>\n",
       "      <td>2842321</td>\n",
       "      <td>2866849</td>\n",
       "      <td>2882481</td>\n",
       "      <td>2913399</td>\n",
       "      <td>3182021</td>\n",
       "      <td>3295066</td>\n",
       "      <td>2941651</td>\n",
       "      <td>2324731</td>\n",
       "      <td>28748</td>\n",
       "      <td>98.8702</td>\n",
       "      <td>0.9957</td>\n",
       "      <td>0.04</td>\n",
       "      <td>1500000-15000000</td>\n",
       "      <td>28.42321</td>\n",
       "    </tr>\n",
       "    <tr>\n",
       "      <th>2</th>\n",
       "      <td>34</td>\n",
       "      <td>DZA</td>\n",
       "      <td>Algeria</td>\n",
       "      <td>Algiers</td>\n",
       "      <td>Africa</td>\n",
       "      <td>44903225</td>\n",
       "      <td>43451666</td>\n",
       "      <td>39543154</td>\n",
       "      <td>35856344</td>\n",
       "      <td>30774621</td>\n",
       "      <td>25518074</td>\n",
       "      <td>18739378</td>\n",
       "      <td>13795915</td>\n",
       "      <td>2381741</td>\n",
       "      <td>18.8531</td>\n",
       "      <td>1.0164</td>\n",
       "      <td>0.56</td>\n",
       "      <td>15000000-150000000</td>\n",
       "      <td>449.03225</td>\n",
       "    </tr>\n",
       "    <tr>\n",
       "      <th>3</th>\n",
       "      <td>213</td>\n",
       "      <td>ASM</td>\n",
       "      <td>American Samoa</td>\n",
       "      <td>Pago Pago</td>\n",
       "      <td>Oceania</td>\n",
       "      <td>44273</td>\n",
       "      <td>46189</td>\n",
       "      <td>51368</td>\n",
       "      <td>54849</td>\n",
       "      <td>58230</td>\n",
       "      <td>47818</td>\n",
       "      <td>32886</td>\n",
       "      <td>27075</td>\n",
       "      <td>199</td>\n",
       "      <td>222.4774</td>\n",
       "      <td>0.9831</td>\n",
       "      <td>0.00</td>\n",
       "      <td>0-150000</td>\n",
       "      <td>0.44273</td>\n",
       "    </tr>\n",
       "    <tr>\n",
       "      <th>4</th>\n",
       "      <td>203</td>\n",
       "      <td>AND</td>\n",
       "      <td>Andorra</td>\n",
       "      <td>Andorra la Vella</td>\n",
       "      <td>Europe</td>\n",
       "      <td>79824</td>\n",
       "      <td>77700</td>\n",
       "      <td>71746</td>\n",
       "      <td>71519</td>\n",
       "      <td>66097</td>\n",
       "      <td>53569</td>\n",
       "      <td>35611</td>\n",
       "      <td>19860</td>\n",
       "      <td>468</td>\n",
       "      <td>170.5641</td>\n",
       "      <td>1.0100</td>\n",
       "      <td>0.00</td>\n",
       "      <td>0-150000</td>\n",
       "      <td>0.79824</td>\n",
       "    </tr>\n",
       "  </tbody>\n",
       "</table>\n",
       "</div>"
      ],
      "text/plain": [
       "   Rank CCA3 Country/Territory           Capital Continent  2022 Population  \\\n",
       "0    36  AFG       Afghanistan             Kabul      Asia         41128771   \n",
       "1   138  ALB           Albania            Tirana    Europe          2842321   \n",
       "2    34  DZA           Algeria           Algiers    Africa         44903225   \n",
       "3   213  ASM    American Samoa         Pago Pago   Oceania            44273   \n",
       "4   203  AND           Andorra  Andorra la Vella    Europe            79824   \n",
       "\n",
       "   2020 Population  2015 Population  2010 Population  2000 Population  \\\n",
       "0         38972230         33753499         28189672         19542982   \n",
       "1          2866849          2882481          2913399          3182021   \n",
       "2         43451666         39543154         35856344         30774621   \n",
       "3            46189            51368            54849            58230   \n",
       "4            77700            71746            71519            66097   \n",
       "\n",
       "   1990 Population  1980 Population  1970 Population  Area (km²)  \\\n",
       "0         10694796         12486631         10752971      652230   \n",
       "1          3295066          2941651          2324731       28748   \n",
       "2         25518074         18739378         13795915     2381741   \n",
       "3            47818            32886            27075         199   \n",
       "4            53569            35611            19860         468   \n",
       "\n",
       "   Density (per km²)  Growth Rate  World Population Percentage  \\\n",
       "0            63.0587       1.0257                         0.52   \n",
       "1            98.8702       0.9957                         0.04   \n",
       "2            18.8531       1.0164                         0.56   \n",
       "3           222.4774       0.9831                         0.00   \n",
       "4           170.5641       1.0100                         0.00   \n",
       "\n",
       "       Class Interval  Population_in_Thousands2022  \n",
       "0  15000000-150000000                    411.28771  \n",
       "1    1500000-15000000                     28.42321  \n",
       "2  15000000-150000000                    449.03225  \n",
       "3            0-150000                      0.44273  \n",
       "4            0-150000                      0.79824  "
      ]
     },
     "execution_count": 56,
     "metadata": {},
     "output_type": "execute_result"
    }
   ],
   "source": [
    "df.head()"
   ]
  },
  {
   "cell_type": "code",
   "execution_count": 57,
   "id": "c85fdc09",
   "metadata": {},
   "outputs": [
    {
     "data": {
      "text/plain": [
       "(array([225.,   6.,   1.,   0.,   0.,   0.,   0.,   0.,   0.,   2.]),\n",
       " array([5.10000000e-03, 1.42589193e+03, 2.85177875e+03, 4.27766558e+03,\n",
       "        5.70355241e+03, 7.12943923e+03, 8.55532606e+03, 9.98121289e+03,\n",
       "        1.14070997e+04, 1.28329865e+04, 1.42588734e+04]),\n",
       " <BarContainer object of 10 artists>)"
      ]
     },
     "execution_count": 57,
     "metadata": {},
     "output_type": "execute_result"
    },
    {
     "data": {
      "image/png": "[encoded data removed]",
      "text/plain": [
       "<Figure size 640x480 with 1 Axes>"
      ]
     },
     "metadata": {},
     "output_type": "display_data"
    }
   ],
   "source": [
    "plt.hist(df['Population_in_Thousands2022'])"
   ]
  },
  {
   "cell_type": "code",
   "execution_count": 28,
   "id": "19ebeb30",
   "metadata": {},
   "outputs": [
    {
     "data": {
      "image/png": "[encoded data removed]",
      "text/plain": [
       "<Figure size 640x480 with 1 Axes>"
      ]
     },
     "metadata": {},
     "output_type": "display_data"
    }
   ],
   "source": [
    "sns.barplot(x=df['Continent'],y=df['Growth Rate'])\n",
    "plt.xticks(rotation='vertical')\n",
    "plt.show()"
   ]
  },
  {
   "cell_type": "code",
   "execution_count": null,
   "id": "a3b2b0e1",
   "metadata": {},
   "outputs": [],
   "source": []
  }
 ],
 "metadata": {
  "kernelspec": {
   "display_name": "ipykernel",
   "language": "python",
   "name": "ipykernel"
  },
  "language_info": {
   "codemirror_mode": {
    "name": "ipython",
    "version": 3
   },
   "file_extension": ".py",
   "mimetype": "text/x-python",
   "name": "python",
   "nbconvert_exporter": "python",
   "pygments_lexer": "ipython3",
   "version": "3.9.13"
  }
 },
 "nbformat": 4,
 "nbformat_minor": 5
}
